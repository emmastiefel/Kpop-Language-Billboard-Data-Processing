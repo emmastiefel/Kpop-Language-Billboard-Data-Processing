{
 "metadata": {
  "language_info": {
   "codemirror_mode": {
    "name": "ipython",
    "version": 3
   },
   "file_extension": ".py",
   "mimetype": "text/x-python",
   "name": "python",
   "nbconvert_exporter": "python",
   "pygments_lexer": "ipython3",
   "version": "3.9.0-final"
  },
  "orig_nbformat": 2,
  "kernelspec": {
   "name": "lyrics-env",
   "display_name": "lyrics-env",
   "language": "python"
  }
 },
 "nbformat": 4,
 "nbformat_minor": 2,
 "cells": [
  {
   "cell_type": "code",
   "execution_count": 1,
   "metadata": {},
   "outputs": [],
   "source": [
    "import pandas as pd\n",
    "from datetime import timedelta\n",
    "from datetime import datetime\n",
    "import numpy as np\n",
    "import matplotlib.pyplot as plt\n",
    "from textblob import TextBlob"
   ]
  },
  {
   "cell_type": "code",
   "execution_count": 2,
   "metadata": {},
   "outputs": [],
   "source": [
    "wdss = pd.read_csv('WDSS_Sentiment_Complete.csv')\n",
    "bbh100 = pd.read_csv('Spotify_BBH100_Kpop.csv')"
   ]
  },
  {
   "cell_type": "code",
   "execution_count": 7,
   "metadata": {},
   "outputs": [
    {
     "output_type": "stream",
     "name": "stdout",
     "text": [
      "WDSS - mean sentiment of translated lyrics 0.12144067635108115\nBBH100 - mean sentiment of translated lyrics 0.09275747641714155\nWDSS - median sentiment of translated lyrics 0.13035714285714287\nBBH100 - median sentiment of translated lyrics 0.09232520517676766\n"
     ]
    }
   ],
   "source": [
    "print('WDSS - mean sentiment of translated lyrics', np.mean(wdss['translated_sentiment']))\n",
    "print('BBH100 - mean sentiment of translated lyrics', np.mean(bbh100['translated_sentiment']))\n",
    "\n",
    "print('WDSS - median sentiment of translated lyrics', np.median(wdss['translated_sentiment']))\n",
    "print('BBH100 - median sentiment of translated lyrics', np.median(bbh100['translated_sentiment']))"
   ]
  },
  {
   "cell_type": "code",
   "execution_count": 8,
   "metadata": {},
   "outputs": [
    {
     "output_type": "stream",
     "name": "stdout",
     "text": [
      "WDSS - mean danceability  0.6509469026548671\nBBH100 - mean danceability 0.6954411764705882\nWDSS - median danceability  0.6559999999999999\nBBH100 - median danceability 0.71\n"
     ]
    }
   ],
   "source": [
    "print('WDSS - mean danceability ', np.mean(wdss['danceability']))\n",
    "print('BBH100 - mean danceability', np.mean(bbh100['danceability']))\n",
    "\n",
    "print('WDSS - median danceability ', np.median(wdss['danceability']))\n",
    "print('BBH100 - median danceability', np.median(bbh100['danceability']))"
   ]
  },
  {
   "cell_type": "code",
   "execution_count": 11,
   "metadata": {},
   "outputs": [
    {
     "output_type": "stream",
     "name": "stdout",
     "text": [
      "WDSS - mean english  0.31362509835111857\nbbh100 - mean english  0.7454904429192467\nWDSS - median english  0.30724070450097846\nbbh100 - median english  0.7835429769392034\n"
     ]
    }
   ],
   "source": [
    "print('WDSS - mean english ', np.mean(wdss['english_count'] / wdss['total_count']))\n",
    "print('bbh100 - mean english ', np.mean(bbh100['english_count'] / bbh100['total_count']))\n",
    "\n",
    "print('WDSS - median english ', np.median(wdss['english_count'] / wdss['total_count']))\n",
    "print('bbh100 - median english ', np.median(bbh100['english_count'] / bbh100['total_count']))"
   ]
  },
  {
   "cell_type": "code",
   "execution_count": 12,
   "metadata": {},
   "outputs": [
    {
     "output_type": "stream",
     "name": "stdout",
     "text": [
      "WDSS - mean translated_sentiment  0.12144067635108115\nBBH100 - mean translated_sentiment 0.09275747641714155\nWDSS - median translated_sentiment  0.13035714285714287\nBBH100 - median translated_sentiment 0.09232520517676766\n"
     ]
    }
   ],
   "source": [
    "print('WDSS - mean translated_sentiment ', np.mean(wdss['translated_sentiment']))\n",
    "print('BBH100 - mean translated_sentiment', np.mean(bbh100['translated_sentiment']))\n",
    "\n",
    "print('WDSS - median translated_sentiment ', np.median(wdss['translated_sentiment']))\n",
    "print('BBH100 - median translated_sentiment', np.median(bbh100['translated_sentiment']))"
   ]
  },
  {
   "cell_type": "code",
   "execution_count": 13,
   "metadata": {},
   "outputs": [
    {
     "output_type": "stream",
     "name": "stdout",
     "text": [
      "WDSS - mean english_sentiment  0.14431992852233544\nBBH100 - mean english_sentiment 0.14331225882938387\nWDSS - median english_sentiment  0.09523809523809523\nBBH100 - median english_sentiment 0.1058333333333333\n"
     ]
    }
   ],
   "source": [
    "print('WDSS - mean english_sentiment ', np.mean(wdss['english_sentiment']))\n",
    "print('BBH100 - mean english_sentiment', np.mean(bbh100['english_sentiment']))\n",
    "\n",
    "print('WDSS - median english_sentiment ', np.median(wdss['english_sentiment']))\n",
    "print('BBH100 - median english_sentiment', np.median(bbh100['english_sentiment']))"
   ]
  },
  {
   "cell_type": "code",
   "execution_count": null,
   "metadata": {},
   "outputs": [],
   "source": [
    "print('WDSS - mean english_sentiment ', np.mean(wdss['english_sentiment'] - wdss['translated_sentiment']))\n",
    "print('BBH100 - mean english_sentiment', np.mean(bbh100['english_sentiment'] - bbh100['translated_sentiment']))\n",
    "\n",
    "print('WDSS - median english_sentiment ', np.median(wdss['english_sentiment'] - wdss['translated_sentiment']))\n",
    "print('BBH100 - median english_sentiment', np.median(bbh100['english_sentiment'] - bbh100['translated_sentiment']))"
   ]
  }
 ]
}