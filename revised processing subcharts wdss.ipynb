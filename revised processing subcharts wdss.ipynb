{
 "metadata": {
  "language_info": {
   "codemirror_mode": {
    "name": "ipython",
    "version": 3
   },
   "file_extension": ".py",
   "mimetype": "text/x-python",
   "name": "python",
   "nbconvert_exporter": "python",
   "pygments_lexer": "ipython3",
   "version": "3.9.0-final"
  },
  "orig_nbformat": 2,
  "kernelspec": {
   "name": "lyrics-env",
   "display_name": "lyrics-env",
   "language": "python"
  }
 },
 "nbformat": 4,
 "nbformat_minor": 2,
 "cells": [
  {
   "cell_type": "code",
   "execution_count": 1,
   "metadata": {},
   "outputs": [],
   "source": [
    "import pandas as pd\n",
    "import matplotlib.pyplot as plt"
   ]
  },
  {
   "cell_type": "code",
   "execution_count": 4,
   "metadata": {},
   "outputs": [],
   "source": [
    "h100_subcharts = pd.read_csv('hot100_radio_streaming_sales_Kpop.csv')\n",
    "wdss = pd.read_csv('wdss.csv')\n",
    "\n",
    "## create standardized search_title column for wdss to match other set\n",
    "wdss['search_title'] = wdss['song_title'].str.replace(r\"(\\(.*\\))\", \"\")\n",
    "wdss['search_title'] = wdss['search_title'].str.strip()\n",
    "\n",
    "##match wdss processing to h100/subcharts processing\n",
    "#clean spacing: add space before linebreaks (so theyre counted separately)\n",
    "wdss[\"translated_lyrics\"] = wdss[\"translated_lyrics\"].str.replace(r\"(\\n+)\", \" \\n\")\n",
    "wdss[\"translated_lyrics\"] = wdss[\"translated_lyrics\"].str.replace(r\"(\\s+)\", \" \") #restandardize whitespace\n",
    "wdss[\"translated_lyrics\"] = wdss[\"translated_lyrics\"].str.replace(r\"(\\s[, | \\' | \\? | \\! | \\. | \\-]+)\", \" \")  #delete hanging punctuation\n",
    "wdss[\"original_lyrics\"] = wdss[\"original_lyrics\"].str.replace(r\"(\\n+)\", \" \\n\")\n",
    "wdss[\"original_lyrics\"] = wdss[\"original_lyrics\"].str.replace(r\"(\\s+)\", \" \") #restandardize whitespace\n",
    "wdss[\"original_lyrics\"] = wdss[\"original_lyrics\"].str.replace(r\"(\\s[, | \\' | \\? | \\! | \\. | \\-]+)\", \" \")  #delete hanging punctuation\n",
    "\n",
    "#only roman characters and white space and punctuation\n",
    "wdss[\"english_lyrics\"] = wdss[\"original_lyrics\"].str.replace(r\"([^a-z | A-Z | \\s | , | ' | \\? | \\! | \\. | \\- ])\", \" \")\n",
    "wdss[\"english_lyrics\"] = wdss[\"english_lyrics\"].str.replace(r\"(\\s+)\", \" \") #restandardize whitespace\n",
    "wdss[\"english_lyrics\"] = wdss[\"english_lyrics\"].str.replace(r\"(\\s[, | ' | \\? | \\! | \\. | \\-]+)\", \" \")  #delete hanging punctuation\n",
    "\n",
    "\n",
    "##count number of english lyrics and total lyrics\n",
    "wdss['english_count'] = [len(str(lyr).split(\" \")) for lyr in wdss['english_lyrics']]\n",
    "wdss['total_count'] = [len(str(lyr).split(\" \")) for lyr in wdss['original_lyrics']]\n",
    "\n",
    "### create columns for english percentage\n",
    "h100_subcharts['english_percentage'] = h100_subcharts['english_count'] / h100_subcharts['total_count']\n",
    "wdss['english_percentage'] = wdss['english_count'] / wdss['total_count']"
   ]
  },
  {
   "cell_type": "code",
   "execution_count": 7,
   "metadata": {},
   "outputs": [
    {
     "output_type": "stream",
     "name": "stdout",
     "text": [
      "Song  Life Goes On\n29    0.34981\nName: english_percentage, dtype: float64 perc. english in h100/subcharts\n1234    0.348485\nName: english_percentage, dtype: float64 perc. english in wdss\nENGLISH COUNTS:\n29    92\nName: english_count, dtype: int64 h100/subcharts\n1234    92\nName: english_count, dtype: int64 wdss\nTOTAL COUNTS:\n29    263\nName: total_count, dtype: int64 h100/subcharts\n1234    264\nName: total_count, dtype: int64 wdss\n"
     ]
    }
   ],
   "source": [
    "##test on one song to see if they match\n",
    "test_title = 'Life Goes On'\n",
    "h100_value = h100_subcharts.loc[h100_subcharts['search_title'] == test_title]['english_percentage']\n",
    "wdss_value = wdss.loc[wdss['search_title'] == test_title]['english_percentage']\n",
    "print('Song ', test_title)\n",
    "print(h100_value, 'perc. english in h100/subcharts')\n",
    "print(wdss_value, 'perc. english in wdss')\n",
    "print('ENGLISH COUNTS:')\n",
    "print(h100_subcharts.loc[h100_subcharts['search_title'] == test_title]['english_count'], 'h100/subcharts')\n",
    "print(wdss.loc[wdss['search_title'] == test_title]['english_count'], 'wdss')\n",
    "print('TOTAL COUNTS:')\n",
    "print(h100_subcharts.loc[h100_subcharts['search_title'] == test_title]['total_count'], 'h100/subcharts')\n",
    "print(wdss.loc[wdss['search_title'] == test_title]['total_count'], 'wdss')"
   ]
  },
  {
   "cell_type": "code",
   "execution_count": 8,
   "metadata": {},
   "outputs": [
    {
     "output_type": "stream",
     "name": "stdout",
     "text": [
      " yeah oh Like an echo in the forest Yeah, life goes on Like an arrow in the blue sky On my pillow, on my table Yeah, life goes on Like this again Ayy No Mm-mm-mm-mm Ooh, ooh, ooh, oh-woah oh Oh, oh, oh Like an echo in the forest Yeah, life goes on Oh, woah Like an arrow in the blue sky On my pillow, on my table Yeah, life goes on Like this again I remember I, yeah-yeah-yeah-yeah I remember Ah-ah, ah-ah I remember I, yeah-yeah-yeah-yeah I remember Ah-ah, ah-ah\n"
     ]
    }
   ],
   "source": [
    "### verify lyrics for both datsets look correct for test song\n",
    "for i, r in h100_subcharts.iterrows():\n",
    "    if r['search_title'] == test_title:\n",
    "        print(r['english_lyrics'])"
   ]
  },
  {
   "cell_type": "code",
   "execution_count": 9,
   "metadata": {},
   "outputs": [
    {
     "output_type": "stream",
     "name": "stdout",
     "text": [
      " yeah oh like an echo in the forest yeah, life goes on like an arrow in the blue sky on my pillow, on my table yeah, life goes on like this again ayy no mm-mm-mm-mm ooh, ooh, ooh, oh-woah oh oh, oh, oh like an echo in the forest yeah, life goes on oh, woah like an arrow in the blue sky on my pillow, on my table yeah, life goes on like this again i remember i, yeah-yeah-yeah-yeah i remember ah-ah, ah-ah i remember i, yeah-yeah-yeah-yeah i remember ah-ah, ah-ah\n"
     ]
    }
   ],
   "source": [
    "for i, r in wdss.iterrows():\n",
    "    if r['search_title'] == test_title:\n",
    "        print(r['english_lyrics'])"
   ]
  },
  {
   "cell_type": "code",
   "execution_count": 10,
   "metadata": {},
   "outputs": [],
   "source": [
    "#### identify all songs in both datasets and make sure they have matching lyrics info\n",
    "common_songs = h100_subcharts.merge(wdss, how='inner', on=['search_title'])"
   ]
  },
  {
   "cell_type": "code",
   "execution_count": 11,
   "metadata": {},
   "outputs": [
    {
     "output_type": "execute_result",
     "data": {
      "text/plain": [
       "      search_title                                    artist_x  \\\n",
       "0    Gangnam Style                                         Psy   \n",
       "1        Gentleman                                         Psy   \n",
       "2         Hangover                        Psy feat. Snoop Dogg   \n",
       "3            Daddy                                Psy feat. CL   \n",
       "4              DNA                                         BTS   \n",
       "..             ...                                         ...   \n",
       "61       Moonlight                              Suga (Agust D)   \n",
       "62       Stay Gold                                         BTS   \n",
       "63  Your Eyes Tell                                         BTS   \n",
       "64     The Baddest  K/DA: (G)I-dle & Wolftyla feat. Bea Miller   \n",
       "65        G.B.T.B.                                    Verivery   \n",
       "\n",
       "                                     artist_y  total_count_y  total_count_x  \n",
       "0                                         Psy            272            271  \n",
       "1                                         Psy            198            197  \n",
       "2                        Psy feat. Snoop Dogg            896            895  \n",
       "3                                Psy feat. CL            469            468  \n",
       "4                                         BTS            267            266  \n",
       "..                                        ...            ...            ...  \n",
       "61                                        Exo            259            272  \n",
       "62                                        BTS            186            185  \n",
       "63                                        BTS             68             67  \n",
       "64  K/DA (G)I-dle & Wolftyla feat. Bea Miller            480            479  \n",
       "65                                   Verivery            348            347  \n",
       "\n",
       "[65 rows x 5 columns]"
      ],
      "text/html": "<div>\n<style scoped>\n    .dataframe tbody tr th:only-of-type {\n        vertical-align: middle;\n    }\n\n    .dataframe tbody tr th {\n        vertical-align: top;\n    }\n\n    .dataframe thead th {\n        text-align: right;\n    }\n</style>\n<table border=\"1\" class=\"dataframe\">\n  <thead>\n    <tr style=\"text-align: right;\">\n      <th></th>\n      <th>search_title</th>\n      <th>artist_x</th>\n      <th>artist_y</th>\n      <th>total_count_y</th>\n      <th>total_count_x</th>\n    </tr>\n  </thead>\n  <tbody>\n    <tr>\n      <th>0</th>\n      <td>Gangnam Style</td>\n      <td>Psy</td>\n      <td>Psy</td>\n      <td>272</td>\n      <td>271</td>\n    </tr>\n    <tr>\n      <th>1</th>\n      <td>Gentleman</td>\n      <td>Psy</td>\n      <td>Psy</td>\n      <td>198</td>\n      <td>197</td>\n    </tr>\n    <tr>\n      <th>2</th>\n      <td>Hangover</td>\n      <td>Psy feat. Snoop Dogg</td>\n      <td>Psy feat. Snoop Dogg</td>\n      <td>896</td>\n      <td>895</td>\n    </tr>\n    <tr>\n      <th>3</th>\n      <td>Daddy</td>\n      <td>Psy feat. CL</td>\n      <td>Psy feat. CL</td>\n      <td>469</td>\n      <td>468</td>\n    </tr>\n    <tr>\n      <th>4</th>\n      <td>DNA</td>\n      <td>BTS</td>\n      <td>BTS</td>\n      <td>267</td>\n      <td>266</td>\n    </tr>\n    <tr>\n      <th>...</th>\n      <td>...</td>\n      <td>...</td>\n      <td>...</td>\n      <td>...</td>\n      <td>...</td>\n    </tr>\n    <tr>\n      <th>61</th>\n      <td>Moonlight</td>\n      <td>Suga (Agust D)</td>\n      <td>Exo</td>\n      <td>259</td>\n      <td>272</td>\n    </tr>\n    <tr>\n      <th>62</th>\n      <td>Stay Gold</td>\n      <td>BTS</td>\n      <td>BTS</td>\n      <td>186</td>\n      <td>185</td>\n    </tr>\n    <tr>\n      <th>63</th>\n      <td>Your Eyes Tell</td>\n      <td>BTS</td>\n      <td>BTS</td>\n      <td>68</td>\n      <td>67</td>\n    </tr>\n    <tr>\n      <th>64</th>\n      <td>The Baddest</td>\n      <td>K/DA: (G)I-dle &amp; Wolftyla feat. Bea Miller</td>\n      <td>K/DA (G)I-dle &amp; Wolftyla feat. Bea Miller</td>\n      <td>480</td>\n      <td>479</td>\n    </tr>\n    <tr>\n      <th>65</th>\n      <td>G.B.T.B.</td>\n      <td>Verivery</td>\n      <td>Verivery</td>\n      <td>348</td>\n      <td>347</td>\n    </tr>\n  </tbody>\n</table>\n<p>65 rows × 5 columns</p>\n</div>"
     },
     "metadata": {},
     "execution_count": 11
    }
   ],
   "source": [
    "target_col = 'total_count'\n",
    "common_songs.loc[common_songs[target_col+'_y'] != common_songs[target_col+'_x']][['search_title', 'artist_x', 'artist_y', target_col+'_y', target_col+'_x']]"
   ]
  },
  {
   "cell_type": "code",
   "execution_count": 12,
   "metadata": {},
   "outputs": [
    {
     "output_type": "stream",
     "name": "stdout",
     "text": [
      "Let's go, yeah, yeah, yeah 타닥 또 타오르는 저 불씨 기름에 닿기 전에 먼저 집어삼키네 필시 휩쓸려가겠지 예 예 음 오늘의 선수 입장하시네 건수를, yeah 물기 시작하면 둥둥둥 동네북이 돼 둥둥둥 툭툭 건드네 괜시리 툭툭, yeah 반응이 없음 걍 담궈버리지 푹푹, yeah 진실도 거짓이 돼 거짓도 진실이 돼 이곳에선 모두가 도덕적 사고와 판단이 완벽한 사람이 돼 웃기시네 분노? 물론 필요하지 타오를 땐 이유가 있어 어쩌면 우리의 역사지 그게 세상을 바꾸기도 하지 But 이건 분노 아닌 분뇨 뭐가 분노인지 you know? 분노인 척하며 죽여 진짜 분노 질려버린 수도 없이 많은 people 넌 나만 죽이는 게 아니야 (아니야) 똥 밟는 게 익숙해 우리야 (우리야) 무감각해진 저 사람들 봐 (봐) 분뇨, 무관심 너넨 팀이야, yeah (19115977) 나는 악의에 가득 찬 분노에 분노해 나는 악의에 가득 찬 분노에 분노해 나는 욱해 욱해 나는 욱해 욱해 나는 꺼져야만 했던 분노에 분노해 나는 꺼져야만 했던 그 분노에 분노해 (Yeah, yeah) 그래 욱 욱 욱해라 욱 재가 될 때까지 그래 욱해라 욱 그래 욱 욱 욱해라 욱 부러질 때까지 그래 욱해라 욱 나는 욱해 욱해 나는 욱해 욱해 나는 악의에 가득 찬 분노에 분노해 나는 꺼져야만 했던 그 분노에 분노해 이 세상 분노가 지배함 분노가 없음 다 못 사나 봐 분노하고 또 분노하고 분노하고 그리 미쳐가고 욱 욱 욱 욱 분노하는 이유도 다 수만 가지 선의와 악의도 다 매한가지 분노할 수 있다만 남의 삶에 피해가 있는 건 I don’t like 그건 stop, ayy 누구의 행동에 누구는 아파해 누구의 언행에 누구는 암담해 누구의 찰나에 누구 순간이 돼 누구의 분노에 누구 목숨이 돼 썩을 퉤 나는 욱해 욱해 나는 욱해 욱해 나는 악의에 가득 찬 분노에 분노해 나는 꺼져야만 했던 그 분노에 분노해 아 대체 욕 좀 먹는 게 왜 잘 벌잖아 또 징징대 왜 그 정돈 감수해야지 에헴 에헴 에헴 에헴 에헴 니네 에헴 에헴 에헴 에헴 나 시켰어봐 다 참아 니네 에헴 니네 에헴 에헴 에헴 에헴 나 시켰어봐 그냥 에헴 비헴 에헴 그래 욱 (욱) 욱 (욱) 욱해라 욱 (욱) 재가 될 때까지 그래 욱해라 욱 (욱) 그래 욱 (욱) 욱 (욱) 욱해라 욱 부러질 때까지 그래 욱해라 욱 나는 욱해 욱해 나는 욱해 욱해 나는 악의에 가득 찬 분노에 분노해 나는 꺼져야만 했던 그 분노에 분노해 (Hey, hey) Let's go\n"
     ]
    }
   ],
   "source": [
    "### verify lyrics for both datsets look correct for test song\n",
    "for i, r in h100_subcharts.iterrows():\n",
    "    if r['search_title'] == 'Ugh!':\n",
    "        print(r['original_lyrics'])"
   ]
  },
  {
   "cell_type": "code",
   "execution_count": 13,
   "metadata": {},
   "outputs": [
    {
     "output_type": "stream",
     "name": "stdout",
     "text": [
      " let's go, yeah, yeah, yeah 타닥 또 타오르는 저 불씨 기름에 닿기 전에 먼저 집어삼키네 필시 휩쓸려가겠지 예 예 음 오늘의 선수 입장하시네 건수를, yeah 물기 시작하면 둥둥둥 동네북이 돼 둥둥둥 툭툭 건드네 괜시리 툭툭, yeah 반응이 없음 걍 담궈버리지 푹푹, yeah 진실도 거짓이 돼 거짓도 진실이 돼 이곳에선 모두가 도덕적 사고와 판단이 완벽한 사람이 돼 웃기시네 분노? 물론 필요하지 타오를 땐 이유가 있어 어쩌면 우리의 역사지 그게 세상을 바꾸기도 하지 but 이건 분노 아닌 분뇨 뭐가 분노인지 you know? 분노인 척하며 죽여 진짜 분노 질려버린 수도 없이 많은 people 넌 나만 죽이는 게 아니야 (아니야) 똥 밟는 게 익숙해 우리야 (우리야) 무감각해진 저 사람들 봐 (봐) 분뇨, 무관심 너넨 팀이야, yeah [나는 욱해 욱해 나는 욱해 욱해](19115977) 나는 악의에 가득 찬 분노에 분노해 나는 악의에 가득 찬 분노에 분노해 나는 욱해 욱해 나는 욱해 욱해 나는 꺼져야만 했던 분노에 분노해 나는 꺼져야만 했던 그 분노에 분노해 (yeah, yeah) 그래 욱 욱 욱해라 욱 재가 될 때까지 그래 욱해라 욱 그래 욱 욱 욱해라 욱 부러질 때까지 그래 욱해라 욱 나는 욱해 욱해 나는 욱해 욱해 나는 악의에 가득 찬 분노에 분노해 나는 꺼져야만 했던 그 분노에 분노해 이 세상 분노가 지배함 분노가 없음 다 못 사나 봐 분노하고 또 분노하고 분노하고 그리 미쳐가고 욱 욱 욱 욱 분노하는 이유도 다 수만 가지 선의와 악의도 다 매한가지 분노할 수 있다만 남의 삶에 피해가 있는 건 i don’t like 그건 stop, ayy 누구의 행동에 누구는 아파해 누구의 언행에 누구는 암담해 누구의 찰나에 누구 순간이 돼 누구의 분노에 누구 목숨이 돼 썩을 퉤 나는 욱해 욱해 나는 욱해 욱해 나는 악의에 가득 찬 분노에 분노해 나는 꺼져야만 했던 그 분노에 분노해 아 대체 욕 좀 먹는 게 왜 잘 벌잖아 또 징징대 왜 그 정돈 감수해야지 에헴 에헴 에헴 에헴 에헴 니네 에헴 에헴 에헴 에헴 나 시켰어봐 다 참아 니네 에헴 니네 에헴 에헴 에헴 에헴 나 시켰어봐 그냥 에헴 비헴 에헴 그래 욱 (욱) 욱 (욱) 욱해라 욱 (욱) 재가 될 때까지 그래 욱해라 욱 (욱) 그래 욱 (욱) 욱 (욱) 욱해라 욱 부러질 때까지 그래 욱해라 욱 나는 욱해 욱해 나는 욱해 욱해 나는 악의에 가득 찬 분노에 분노해 나는 꺼져야만 했던 그 분노에 분노해 (hey, hey) let's go\n"
     ]
    }
   ],
   "source": [
    "### verify lyrics for both datsets look correct for test song\n",
    "for i, r in wdss.iterrows():\n",
    "    if r['search_title'] == 'Ugh!':\n",
    "        print(r['original_lyrics'])"
   ]
  },
  {
   "cell_type": "code",
   "execution_count": 114,
   "metadata": {},
   "outputs": [],
   "source": [
    "# wrong lyrics were identified for gangnam style in wdss....\n",
    "# h100 is idoll ft. nicki minaj, wdss is idol original version, but they should both be nicki minaj version\n",
    "# h100 has correct all night lyrics, wdss incorrectly matched it to glory by rm ':|\n",
    "# ugh! is onlly off by a few words for each dataset so I will let it go\n",
    "\n",
    "##so basically h100 had correct versions, will overwrite wdss to that\n",
    "\n",
    "# would be good to do random checks for other wdss songs if time since mismatched songs obviously happened\n",
    "# (redo it now that ive figured out more accurate way of using genius search??)"
   ]
  },
  {
   "cell_type": "code",
   "execution_count": 14,
   "metadata": {},
   "outputs": [
    {
     "output_type": "stream",
     "name": "stdout",
     "text": [
      "Gangnam Style\nGentleman\nHangover\nDaddy\nDNA\nFake Love\nFake Love\nDdu-Du Ddu-Du\nIdol\nIdol\nKill This Love\nBoy with Luv\nChicken Noodle Soup\nBlack Swan\nBlack Swan\nOn\nOn\nMy Time\nFilter\nHow You Like That\nDynamite\nDynamite\nIce Cream\nLovesick Girls\nLife Goes On\nBlue & Grey\nStay\nStay\nStay\nFly to My Room\nTelepathy\nDis-ease\nPop/Stars\nMake It Right\nMikrokosmos\nHome\nHome\nHome\nDionysus\nDionysus\nJamais Vu\nIntro: Persona\nDream Glow\nA Brand New Day\nAll Night\nAll Night\nAll Night\nHeartbeat\nHeartbeat\nLights\nFriends\nLouder Than Bombs\nInner Child\nWe Are Bulletproof: The Eternal\nUgh!\nMoon\nInterlude: Shadow\nOutro: Ego\nRespect\nEight\nMoonlight\nStay Gold\nYour Eyes Tell\nThe Baddest\nG.B.T.B.\n"
     ]
    }
   ],
   "source": [
    "## overwrite wdss mistakes with h100 info\n",
    "to_correct = list(common_songs.loc[common_songs[target_col+'_y'] != common_songs[target_col+'_x']]['search_title'])\n",
    "\n",
    "for song in to_correct:\n",
    "    print(song)\n",
    "    #locate song in each dataset\n",
    "    h100_index = h100_subcharts.loc[h100_subcharts['search_title'] == song].index[0]\n",
    "    wdss_index = wdss.loc[wdss['search_title'] == song].index[0]\n",
    "\n",
    "    ##overwrite wdss info with h100 info\n",
    "    wdss.at[wdss_index, 'original_lyrics'] = h100_subcharts.at[h100_index, 'original_lyrics']\n",
    "    wdss.at[wdss_index, 'english_lyrics'] = h100_subcharts.at[h100_index, 'english_lyrics']\n",
    "    wdss.at[wdss_index, 'translated_lyrics'] = h100_subcharts.at[h100_index, 'translated_lyrics']\n",
    "    wdss.at[wdss_index, 'english_count'] = h100_subcharts.at[h100_index, 'english_count']\n",
    "    wdss.at[wdss_index, 'total_count'] = h100_subcharts.at[h100_index, 'total_count']\n",
    "    wdss.at[wdss_index, 'english_percentage'] = h100_subcharts.at[h100_index, 'english_percentage']"
   ]
  },
  {
   "cell_type": "code",
   "execution_count": 15,
   "metadata": {},
   "outputs": [],
   "source": [
    "## overwrite each csv with the updated datasets\n",
    "h100_subcharts.to_csv('hot100_radio_streaming_sales_Kpop.csv')\n",
    "wdss.to_csv('WDSS_Sentiment_Complete.csv')"
   ]
  },
  {
   "cell_type": "code",
   "execution_count": null,
   "metadata": {},
   "outputs": [],
   "source": []
  }
 ]
}